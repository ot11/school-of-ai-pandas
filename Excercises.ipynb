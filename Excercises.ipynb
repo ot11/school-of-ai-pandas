{
 "cells": [
  {
   "cell_type": "markdown",
   "metadata": {},
   "source": [
    "# Reporte de accidentes de tránsito para Nuevo León\n",
    "\n",
    "1. Leer los datos\n",
    "2. Dar formato a los datos\n",
    "\n",
    "3. Ejercicios\n",
    "    1. Qué día de la semana hay más accidentes.\n",
    "    2. ¿En qué mes del año hay mayor cantidad de accidentes?\n",
    "    3. Cuáles son los 5 tipos de accidentes más comunes.\n",
    "    4. De todos los accidentes en los que estuvo involucrado un carro, ¿cuántos fueron contra una motocicleta, cuántos contra una bicicleta?\n",
    "    5. Obten la cantidad de accidentes en base a la edad y el sexo de los conductores. Con esto, determina qué edades son las que tienen mayor número de accidentes. ¿Podemos identificar algún patrón respecto a la edad y el sexo en la medida de los accidentes?\n",
    "    6. Para los accidentes registrados como fatales, identifica cuántos llevaban puesto el cinturón de seguridad y cuántos no. En este mismo ejercicio, comparando con los accidentes no fatales, ¿hay alguna relación entre usar el cinturón y evitar una fatalidad?\n",
    "\n",
    "\n",
    "4. Ejercicios adicionales\n",
    "    1. Compara los últimos cinco años de datos y determina lo siguiente:\n",
    "        1.1 ¿Los accidentes han ido a la baja o a la alza?\n",
    "        1.2 Determina cómo ha sido la proporción de accidentes de acuerdo al sexo del conductor, ¿ha habido variación?\n",
    "    2. Nuevo León ha implementado campañas antialcohólicas a lo largo de estos años, determina lo siguiente:\n",
    "        2.1 ¿Ha habido una reducción en el número de accidentes en Diciembre?\n",
    "        2.2 Cuál es la proporción de accidentes donde el conductor manejaba con aliento alcohólico\n",
    "        2.3 En estos años, cómo ha sido la variación entre el sexo del conductor y al momento del accidente tenía aliento alcohólico, ¿son más los hombres que manejan en estas condiciones, o las mujeres? ¿Ha habido cambios en los años?"
   ]
  }
 ],
 "metadata": {
  "kernelspec": {
   "display_name": "Python 3",
   "language": "python",
   "name": "python3"
  },
  "language_info": {
   "codemirror_mode": {
    "name": "ipython",
    "version": 3
   },
   "file_extension": ".py",
   "mimetype": "text/x-python",
   "name": "python",
   "nbconvert_exporter": "python",
   "pygments_lexer": "ipython3",
   "version": "3.7.3"
  }
 },
 "nbformat": 4,
 "nbformat_minor": 2
}
