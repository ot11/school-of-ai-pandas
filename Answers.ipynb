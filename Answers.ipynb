{
 "cells": [
  {
   "cell_type": "code",
   "execution_count": 89,
   "metadata": {},
   "outputs": [
    {
     "data": {
      "text/html": [
       "<div>\n",
       "<style scoped>\n",
       "    .dataframe tbody tr th:only-of-type {\n",
       "        vertical-align: middle;\n",
       "    }\n",
       "\n",
       "    .dataframe tbody tr th {\n",
       "        vertical-align: top;\n",
       "    }\n",
       "\n",
       "    .dataframe thead th {\n",
       "        text-align: right;\n",
       "    }\n",
       "</style>\n",
       "<table border=\"1\" class=\"dataframe\">\n",
       "  <thead>\n",
       "    <tr style=\"text-align: right;\">\n",
       "      <th></th>\n",
       "      <th>SEXO</th>\n",
       "      <th>ID_EDAD</th>\n",
       "      <th>COUNT</th>\n",
       "    </tr>\n",
       "  </thead>\n",
       "  <tbody>\n",
       "    <tr>\n",
       "      <th>18</th>\n",
       "      <td>Hombre</td>\n",
       "      <td>30</td>\n",
       "      <td>1948</td>\n",
       "    </tr>\n",
       "    <tr>\n",
       "      <th>13</th>\n",
       "      <td>Hombre</td>\n",
       "      <td>25</td>\n",
       "      <td>1767</td>\n",
       "    </tr>\n",
       "    <tr>\n",
       "      <th>15</th>\n",
       "      <td>Hombre</td>\n",
       "      <td>27</td>\n",
       "      <td>1738</td>\n",
       "    </tr>\n",
       "    <tr>\n",
       "      <th>14</th>\n",
       "      <td>Hombre</td>\n",
       "      <td>26</td>\n",
       "      <td>1727</td>\n",
       "    </tr>\n",
       "    <tr>\n",
       "      <th>16</th>\n",
       "      <td>Hombre</td>\n",
       "      <td>28</td>\n",
       "      <td>1630</td>\n",
       "    </tr>\n",
       "  </tbody>\n",
       "</table>\n",
       "</div>"
      ],
      "text/plain": [
       "      SEXO  ID_EDAD  COUNT\n",
       "18  Hombre       30   1948\n",
       "13  Hombre       25   1767\n",
       "15  Hombre       27   1738\n",
       "14  Hombre       26   1727\n",
       "16  Hombre       28   1630"
      ]
     },
     "execution_count": 89,
     "metadata": {},
     "output_type": "execute_result"
    },
    {
     "data": {
      "text/html": [
       "<div>\n",
       "<style scoped>\n",
       "    .dataframe tbody tr th:only-of-type {\n",
       "        vertical-align: middle;\n",
       "    }\n",
       "\n",
       "    .dataframe tbody tr th {\n",
       "        vertical-align: top;\n",
       "    }\n",
       "\n",
       "    .dataframe thead th {\n",
       "        text-align: right;\n",
       "    }\n",
       "</style>\n",
       "<table border=\"1\" class=\"dataframe\">\n",
       "  <thead>\n",
       "    <tr style=\"text-align: right;\">\n",
       "      <th></th>\n",
       "      <th>SEXO</th>\n",
       "      <th>ID_EDAD</th>\n",
       "      <th>COUNT</th>\n",
       "    </tr>\n",
       "  </thead>\n",
       "  <tbody>\n",
       "    <tr>\n",
       "      <th>97</th>\n",
       "      <td>Mujer</td>\n",
       "      <td>27</td>\n",
       "      <td>474</td>\n",
       "    </tr>\n",
       "    <tr>\n",
       "      <th>96</th>\n",
       "      <td>Mujer</td>\n",
       "      <td>26</td>\n",
       "      <td>448</td>\n",
       "    </tr>\n",
       "    <tr>\n",
       "      <th>100</th>\n",
       "      <td>Mujer</td>\n",
       "      <td>30</td>\n",
       "      <td>438</td>\n",
       "    </tr>\n",
       "    <tr>\n",
       "      <th>99</th>\n",
       "      <td>Mujer</td>\n",
       "      <td>29</td>\n",
       "      <td>431</td>\n",
       "    </tr>\n",
       "    <tr>\n",
       "      <th>98</th>\n",
       "      <td>Mujer</td>\n",
       "      <td>28</td>\n",
       "      <td>430</td>\n",
       "    </tr>\n",
       "  </tbody>\n",
       "</table>\n",
       "</div>"
      ],
      "text/plain": [
       "      SEXO  ID_EDAD  COUNT\n",
       "97   Mujer       27    474\n",
       "96   Mujer       26    448\n",
       "100  Mujer       30    438\n",
       "99   Mujer       29    431\n",
       "98   Mujer       28    430"
      ]
     },
     "execution_count": 89,
     "metadata": {},
     "output_type": "execute_result"
    },
    {
     "data": {
      "text/plain": [
       "<matplotlib.axes._subplots.AxesSubplot at 0x12bfa67b8>"
      ]
     },
     "execution_count": 89,
     "metadata": {},
     "output_type": "execute_result"
    },
    {
     "data": {
      "text/plain": [
       "<matplotlib.axes._subplots.AxesSubplot at 0x12394ca90>"
      ]
     },
     "execution_count": 89,
     "metadata": {},
     "output_type": "execute_result"
    },
    {
     "data": {
      "image/png": "[encoded data removed]",
      "text/plain": [
       "<Figure size 432x432 with 1 Axes>"
      ]
     },
     "metadata": {},
     "output_type": "display_data"
    },
    {
     "data": {
      "image/png": "[encoded data removed]",
      "text/plain": [
       "<Figure size 432x432 with 1 Axes>"
      ]
     },
     "metadata": {},
     "output_type": "display_data"
    }
   ],
   "source": [
    "import pandas as pd\n",
    "import matplotlib\n",
    "import matplotlib.pyplot as plt\n",
    "%matplotlib inline\n",
    "matplotlib.style.use('ggplot')\n",
    "\n",
    "from IPython.core.interactiveshell import InteractiveShell\n",
    "InteractiveShell.ast_node_interactivity = \"all\"\n",
    "\n",
    "base = pd.read_csv('./data/conjunto_de_datos/atus_anual_2017.csv', delimiter=',')\n",
    "municipios = pd.read_csv('./data/catalogos/tc_municipio.csv', delimiter=',')\n",
    "\n",
    "#print(base.info())\n",
    "#print(municipios.info())\n",
    "\n",
    "#accidentes_nl = base.query('ID_ENTIDAD == 19')\n",
    "#municipios_nl = base.query('ID_ENTIDAD == 19')\n",
    "\n",
    " \n",
    "cols = municipios.columns.tolist()\n",
    "cols = [col.strip() for col in cols]\n",
    "municipios.columns = cols\n",
    "\n",
    "accidentes_nl = base.query('ID_ENTIDAD == 19')\n",
    "municipios_nl = municipios.query('ID_ENTIDAD == 19')\n",
    "#print(accidentes_nl.info())\n",
    "#print(municipios.info()) \n",
    "\n",
    "#work_df = accidentes_nl.merge(municipios, on='ID_MUNICIPIO', how='left')\n",
    "work_df = accidentes_nl.merge(municipios_nl, on='ID_MUNICIPIO', how='left')\n",
    "\n",
    "#print(work_df.groupby(['DIASEMANA']).count()['ID_DIA'].sort_values(ascending=False).head(1))\n",
    "\n",
    "#print(work_df.groupby(['MES']).count()['ID_DIA'].sort_values(ascending=False).head(1))\n",
    "\n",
    "#print(work_df.groupby(['TIPACCID']).count()['ID_DIA'].sort_values(ascending=False).head(5))\n",
    "#work_df.loc[work_df['TIPACCID'].str.startswith('Colisión con vehículo automotor'), 'TIPACCID'] = 'Colisión con vehículo automotor'\n",
    "#print(work_df.groupby(['TIPACCID']).count()['ID_DIA'].sort_values(ascending=False).head(5))\n",
    "\n",
    "#print('Total: {0}'.format(work_df.shape))\n",
    "#print(work_df.query('AUTOMOVIL > 0 and MOTOCICLET > 0').count()['ID_DIA'])\n",
    "#print(work_df.query('AUTOMOVIL > 0 and BICICLETA > 0').count()['ID_DIA'])\n",
    "#print(work_df.query('AUTOMOVIL > 0 and MOTOCICLET > 0 and BICICLETA > 0').count()['ID_DIA'])\n",
    "\n",
    "por_edad = work_df.groupby(['SEXO', 'ID_EDAD']).count()['TIPACCID'].reset_index()\n",
    "por_edad.columns = ['SEXO', 'ID_EDAD', 'COUNT']\n",
    "por_edad.sort_values('COUNT', ascending=False).query('ID_EDAD != 99 and SEXO == \"Hombre\"').head()\n",
    "por_edad.sort_values('COUNT', ascending=False).query('ID_EDAD != 99 and SEXO == \"Mujer\"').head()\n",
    "\n",
    "por_edad.sort_values('ID_EDAD', ascending=True).query('ID_EDAD != 99 and SEXO == \"Hombre\"').plot(x='COUNT', y='ID_EDAD', kind='box', figsize=(6,6))\n",
    "por_edad.sort_values('ID_EDAD', ascending=True).query('ID_EDAD != 99 and SEXO == \"Mujer\"').plot(x='COUNT', y='ID_EDAD', kind='box', figsize=(6,6))"
   ]
  },
  {
   "cell_type": "code",
   "execution_count": null,
   "metadata": {},
   "outputs": [],
   "source": []
  }
 ],
 "metadata": {
  "kernelspec": {
   "display_name": "Python 3",
   "language": "python",
   "name": "python3"
  },
  "language_info": {
   "codemirror_mode": {
    "name": "ipython",
    "version": 3
   },
   "file_extension": ".py",
   "mimetype": "text/x-python",
   "name": "python",
   "nbconvert_exporter": "python",
   "pygments_lexer": "ipython3",
   "version": "3.7.3"
  }
 },
 "nbformat": 4,
 "nbformat_minor": 2
}
